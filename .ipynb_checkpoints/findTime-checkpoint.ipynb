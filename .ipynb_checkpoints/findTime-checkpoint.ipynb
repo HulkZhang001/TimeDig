{
 "cells": [
  {
   "cell_type": "code",
   "execution_count": 41,
   "metadata": {
    "ExecuteTime": {
     "end_time": "2019-05-29T08:02:34.347540Z",
     "start_time": "2019-05-29T08:02:34.342473Z"
    }
   },
   "outputs": [],
   "source": [
    "import thulac\n",
    "import jieba\n",
    "import re"
   ]
  },
  {
   "cell_type": "raw",
   "metadata": {},
   "source": [
    "n/名词 np/人名 ns/地名 ni/机构名 nz/其它专名\n",
    "m/数词 q/量词 mq/数量词 t/时间词 f/方位词 s/处所词\n",
    "v/动词 a/形容词 d/副词 h/前接成分 k/后接成分 i/习语 \n",
    "j/简称 r/代词 c/连词 p/介词 u/助词 y/语气助词\n",
    "e/叹词 o/拟声词 g/语素 w/标点 x/其它"
   ]
  },
  {
   "cell_type": "markdown",
   "metadata": {
    "ExecuteTime": {
     "end_time": "2019-05-27T02:05:53.837333Z",
     "start_time": "2019-05-27T02:05:53.832870Z"
    }
   },
   "source": [
    "分词和词性标注就用thulac"
   ]
  },
  {
   "cell_type": "code",
   "execution_count": 42,
   "metadata": {
    "ExecuteTime": {
     "end_time": "2019-05-29T08:02:39.546880Z",
     "start_time": "2019-05-29T08:02:37.012320Z"
    }
   },
   "outputs": [
    {
     "name": "stdout",
     "output_type": "stream",
     "text": [
      "Model loaded succeed\n"
     ]
    }
   ],
   "source": [
    "thu1=thulac.thulac()"
   ]
  },
  {
   "cell_type": "code",
   "execution_count": 43,
   "metadata": {
    "ExecuteTime": {
     "end_time": "2019-05-29T08:02:41.053477Z",
     "start_time": "2019-05-29T08:02:41.048020Z"
    },
    "code_folding": [
     1
    ]
   },
   "outputs": [],
   "source": [
    "#去除input_file文本文件中的空行,并输出到output_file中\n",
    "def clearBlankLine(input_file, output_file):\n",
    "    file1 = open(input_file, 'r', encoding='utf-8') # 要去掉空行的文件 \n",
    "    file2 = open(output_file, 'w', encoding='utf-8') # 生成没有空行的文件\n",
    "    try:\n",
    "        for line in file1.readlines():\n",
    "            if line == '\\n':\n",
    "                line = line.strip(\"\\n\")\n",
    "            file2.write(line)\n",
    "    finally:\n",
    "        file1.close()\n",
    "        file2.close()"
   ]
  },
  {
   "cell_type": "code",
   "execution_count": 44,
   "metadata": {
    "ExecuteTime": {
     "end_time": "2019-05-29T08:02:42.657330Z",
     "start_time": "2019-05-29T08:02:42.542172Z"
    }
   },
   "outputs": [],
   "source": [
    "clearBlankLine('./input.txt', './input_1.txt')"
   ]
  },
  {
   "cell_type": "raw",
   "metadata": {
    "ExecuteTime": {
     "end_time": "2019-05-29T02:52:33.619743Z",
     "start_time": "2019-05-29T02:52:33.614286Z"
    }
   },
   "source": [
    "===================================我是分隔符============================================"
   ]
  },
  {
   "cell_type": "code",
   "execution_count": 45,
   "metadata": {
    "ExecuteTime": {
     "end_time": "2019-05-29T08:02:45.163803Z",
     "start_time": "2019-05-29T08:02:45.149917Z"
    },
    "code_folding": [],
    "scrolled": true
   },
   "outputs": [],
   "source": [
    "#对文件中的文本进行分词和词性标注，并提取出其中的时间要素词汇\n",
    "def cut_file(input_file, output_file):\n",
    "    time=''\n",
    "    input_f = open(input_file, 'r', encoding='utf-8')\n",
    "    output_f = open(output_file, 'w', encoding='utf-8')\n",
    "    for line in input_f.readlines():\n",
    "        cutted = thu1.cut(line, text = True)\n",
    "        output_f.write(cutted + \"\\n\")\n",
    "        lcutted = thu1.cut(line)\n",
    "        for i in lcutted:\n",
    "            if i[1]=='t':\n",
    "                time += i[0]\n",
    "            else:\n",
    "                time += ' '\n",
    "    \n",
    "    time=time.split()\n",
    "\n",
    "    output_f.close()\n",
    "    input_f.close()\n",
    "    print(\"successfully cut file \" + input_file + \"!\")"
   ]
  },
  {
   "cell_type": "code",
   "execution_count": 46,
   "metadata": {
    "ExecuteTime": {
     "end_time": "2019-05-29T08:03:05.237343Z",
     "start_time": "2019-05-29T08:02:46.186857Z"
    }
   },
   "outputs": [
    {
     "name": "stdout",
     "output_type": "stream",
     "text": [
      "successfully cut file ./input_1.txt!\n"
     ]
    }
   ],
   "source": [
    "cut_file('./input_1.txt','./out.txt')"
   ]
  },
  {
   "cell_type": "raw",
   "metadata": {},
   "source": [
    "===================================我是分隔符============================================"
   ]
  },
  {
   "cell_type": "code",
   "execution_count": 48,
   "metadata": {
    "ExecuteTime": {
     "end_time": "2019-05-29T08:03:13.790567Z",
     "start_time": "2019-05-29T08:03:13.607021Z"
    },
    "code_folding": [
     1
    ],
    "collapsed": true
   },
   "outputs": [
    {
     "name": "stdout",
     "output_type": "stream",
     "text": [
      "2018年 t 0 5\n",
      "9月 t 5 7\n",
      "16日 t 7 10\n",
      "， w 10 11\n",
      "香港 ns 11 13\n",
      "， w 13 14\n",
      "台风 n 14 16\n",
      "“ w 16 17\n",
      "山竹 n 17 19\n",
      "” w 19 20\n",
      "正在 d 20 22\n",
      "继续 v 22 24\n",
      "稳定 a 24 26\n",
      "地 u 26 27\n",
      "移 v 27 28\n",
      "向 p 28 29\n",
      "广东 ns 29 31\n",
      "西部 f 31 33\n",
      "沿岸 f 33 35\n",
      "， w 35 36\n",
      "进一步 d 36 39\n",
      "逼近 v 39 41\n",
      "香港 ns 41 43\n",
      "， w 43 44\n",
      "带 v 44 45\n",
      "来 v 45 46\n",
      "狂风暴雨 i 46 50\n",
      "。 w 50 51\n",
      "香港 ns 51 53\n",
      "天文台 n 53 56\n",
      "自 p 56 57\n",
      "16日 t 57 60\n",
      "凌晨 t 60 62\n",
      "起 v 62 63\n",
      "数 m 63 64\n",
      "小时 n 64 66\n",
      "内 f 66 67\n",
      "3 m 67 68\n",
      "次 q 68 69\n",
      "升级 v 69 71\n",
      "热带 n 71 73\n",
      "气旋 n 73 75\n",
      "警告 v 75 77\n",
      "信号 n 77 79\n",
      "， w 79 80\n",
      "上午 t 80 82\n",
      "9时 t 82 84\n",
      "40分 t 84 87\n",
      "发出 v 87 89\n",
      "最高 a 89 91\n",
      "级别 n 91 93\n",
      "的 u 93 94\n",
      "十 m 94 95\n",
      "号 q 95 96\n",
      "飓风 n 96 98\n",
      "信号 n 98 100\n",
      "。 w 100 101\n"
     ]
    }
   ],
   "source": [
    "#编写的thulac的切分词函数，得到词，标签，起始位置和结束位置\n",
    "def tokenize_thu(unicode_sentence):\n",
    "    \n",
    "    \"\"\"\n",
    "    Tokenize a sentence and yields tuples of (word, tag, start, end)\n",
    "    Parameter:\n",
    "        - sentence: the str(unicode) to be segmented.\n",
    "    \"\"\"\n",
    "    start = 0\n",
    "    for i in thu1.cut(unicode_sentence):\n",
    "        w = i[0]\n",
    "        tag = i[1]\n",
    "        width = len(w)\n",
    "        yield (w, tag, start, start + width)\n",
    "        start += width\n",
    "        \n",
    "#example\n",
    "a=tokenize_thu('2018年9月16日，香港，台风“山竹”正在继续稳定地移向广东西部沿岸，进一步逼近香港，带来狂风暴雨。香港天文台自16日凌晨起数小时内3次升级热带气旋警告信号，上午9时40分发出最高级别的十号飓风信号。')\n",
    "for i,j,k,l in a:\n",
    "    print(i,j,k,l)"
   ]
  },
  {
   "cell_type": "raw",
   "metadata": {},
   "source": [
    "===================================我是分隔符============================================"
   ]
  },
  {
   "cell_type": "code",
   "execution_count": 49,
   "metadata": {
    "ExecuteTime": {
     "end_time": "2019-05-29T08:03:25.508603Z",
     "start_time": "2019-05-29T08:03:25.293836Z"
    },
    "code_folding": [
     2
    ]
   },
   "outputs": [
    {
     "name": "stdout",
     "output_type": "stream",
     "text": [
      "['2018年9月16日', '2019-05-26', '下午5时20分50秒', '16日凌晨', '上午9时40分']\n",
      "[0, 14, 47, 78, 101]\n",
      "[10, 24, 57, 83, 108]\n"
     ]
    }
   ],
   "source": [
    "#将thulac与正则表达式结合的方法\n",
    "#得到一句话的时间要素time1 及其在句子中的起始位置 start1、end1\n",
    "def get_time(text):\n",
    "    time=''\n",
    "    start=[]\n",
    "    end=[]\n",
    "    a=tokenize_thu(text)\n",
    "    for i in a:\n",
    "        if i[1]=='t':\n",
    "            time += i[0]\n",
    "            start.append(i[2])\n",
    "            end.append(i[3])\n",
    "        else:\n",
    "            time += ' '\n",
    "    \n",
    "    time=time.split()\n",
    "    start1=[]\n",
    "    start1.append(start[0])\n",
    "    end1=[]\n",
    "    for i in range(len(start)-1):\n",
    "        if not(end[i]==start[i+1]):\n",
    "            start1.append(start[i+1])\n",
    "            end1.append(end[i])\n",
    "    end1.append(end[-1])\n",
    "    #正则表达式补充\n",
    "    pattern1 = re.compile(r'\\d{4}[/._-]\\d+([/._-]\\d+)*', re.M) \n",
    "    # 2004.05.23   2019.06   9.16   02/23   9-23\n",
    "    pattern2 = re.compile(r'\\d+[点时]\\d+分(\\d+秒)*', re.M) \n",
    "    # 10点50分6秒   8点20分\n",
    "    pattern3 = re.compile(r'\\d+[:：]\\d+', re.M) \n",
    "    # 8：23   16:59\n",
    "    result1 = pattern1.finditer(text)\n",
    "    result2 = pattern2.finditer(text)\n",
    "    result3 = pattern3.finditer(text)\n",
    "    for i in result1:\n",
    "        time.append(i.group())\n",
    "        start1.append(i.start())\n",
    "        end1.append(i.end())\n",
    "    for i in result2:\n",
    "        time.append(i.group())\n",
    "        start1.append(i.start())\n",
    "        end1.append(i.end())\n",
    "    for i in result3:\n",
    "        time.append(i.group())\n",
    "        start1.append(i.start())\n",
    "        end1.append(i.end())\n",
    "        \n",
    "        \n",
    "    mark=[]\n",
    "    for i in range(len(start1)):\n",
    "        for j in range(len(start1)):\n",
    "            if start1[j]>start1[i] and start1[j]<=end1[i]:\n",
    "                end1[i]=end1[j]\n",
    "                mark.append(j)\n",
    "    for i in reversed(mark): # reversed:倒序遍历\n",
    "        start1.pop(i)        #pop是按位置删除，remove是按元素删除第一次出现的\n",
    "        end1.pop(i)\n",
    "        \n",
    "        \n",
    "    time1=[]\n",
    "    for i in range(len(start1)):\n",
    "        time1.append(text[start1[i]:end1[i]])\n",
    "    \n",
    "    #调整顺序\n",
    "    length = len(time1)\n",
    "    for i in range(0,length-1):\n",
    "        for j in range(0,length-1-i):\n",
    "            if start1[j] > start1[j+1]:\n",
    "                tmp1 = start1[j]\n",
    "                tmp2 = end1[j]\n",
    "                tmp3 = time1[j]\n",
    "                start1[j]=start1[j+1]\n",
    "                end1[j]=end1[j+1]\n",
    "                time1[j]=time1[j+1]\n",
    "                start1[j+1] = tmp1\n",
    "                end1[j+1] = tmp2\n",
    "                time1[j+1] = tmp3\n",
    "    \n",
    "    yield(time1,start1,end1)\n",
    "    \n",
    "#example\n",
    "a=get_time('2018年9月16日，香港，2019-05-26,台风“山竹”正在继续稳定地移向广东西部沿岸，下午5时20分50秒进一步逼近香港，带来狂风暴雨。香港天文台自16日凌晨起数小时内3次升级热带气旋警告信号，上午9时40分发出最高级别的十号飓风信号。')\n",
    "for i in a:\n",
    "    print(i[0])\n",
    "    print(i[1])\n",
    "    print(i[2])"
   ]
  },
  {
   "cell_type": "raw",
   "metadata": {},
   "source": [
    "===================================我是分隔符============================================"
   ]
  },
  {
   "cell_type": "code",
   "execution_count": 50,
   "metadata": {
    "ExecuteTime": {
     "end_time": "2019-05-29T08:03:29.263218Z",
     "start_time": "2019-05-29T08:03:29.091634Z"
    }
   },
   "outputs": [
    {
     "name": "stdout",
     "output_type": "stream",
     "text": [
      "['2018年9月16日', '2019-05-26', '下午5时20分50秒', '16日凌晨', '上午9时40分']\n",
      "[0, 14, 47, 78, 101]\n",
      "[10, 24, 57, 83, 108]\n"
     ]
    }
   ],
   "source": [
    "# 问题1：有两种方法识别都不准的，需要结合比如 “下午5时20分” + “5时20分50秒” = “下午5时20分50秒”\n",
    "a=get_time('2018年9月16日，香港，2019-05-26,台风“山竹”正在继续稳定地移向广东西部沿岸，下午5时20分50秒进一步逼近香港，带来狂风暴雨。香港天文台自16日凌晨起数小时内3次升级热带气旋警告信号，上午9时40分发出最高级别的十号飓风信号。')\n",
    "for i in a:\n",
    "    print(i[0])\n",
    "    print(i[1])\n",
    "    print(i[2])"
   ]
  },
  {
   "cell_type": "code",
   "execution_count": 10,
   "metadata": {
    "ExecuteTime": {
     "end_time": "2019-05-29T05:00:40.225147Z",
     "start_time": "2019-05-29T05:00:40.215225Z"
    }
   },
   "outputs": [
    {
     "name": "stdout",
     "output_type": "stream",
     "text": [
      "6\n",
      "5\n",
      "[0, 47, 78, 101, 14, 49, 103]\n",
      "[10, 57, 83, 108, 24, 57, 108]\n"
     ]
    }
   ],
   "source": [
    "# 针对问题1的解决方法\n",
    "mark=[]\n",
    "s=[0, 47, 78, 101, 14, 49, 103]\n",
    "e=[10, 54, 83, 108, 24, 57, 108]\n",
    "for i in range(len(s)):\n",
    "    for j in range(len(s)):\n",
    "        if s[j]>s[i] and s[j]<=e[i]:\n",
    "            e[i]=e[j]\n",
    "            mark.append(j)\n",
    "for i in reversed(mark): # reversed:倒序遍历\n",
    "    print(i)\n",
    "    #s.pop(i)\n",
    "    #e.pop(i)\n",
    "    #s.remove(s[i])\n",
    "    #e.remove(e[i])\n",
    "    \n",
    "print(s)\n",
    "print(e)\n"
   ]
  },
  {
   "cell_type": "raw",
   "metadata": {},
   "source": [
    "===================================我是分隔符============================================"
   ]
  },
  {
   "cell_type": "raw",
   "metadata": {},
   "source": [
    "===================================我是分隔符============================================"
   ]
  },
  {
   "cell_type": "code",
   "execution_count": 11,
   "metadata": {
    "ExecuteTime": {
     "end_time": "2019-05-29T05:00:44.416855Z",
     "start_time": "2019-05-29T05:00:44.406936Z"
    },
    "code_folding": [
     1
    ]
   },
   "outputs": [],
   "source": [
    "#将文章按句号分行\n",
    "def sentense_split(input_file,output_file):\n",
    "    with open(input_file, 'r', encoding='utf-8') as inp:\n",
    "        texts = inp.read()\n",
    "    sentences = re.split('[。！？]', texts)\n",
    "    output_data = open(output_file, 'w', encoding='utf-8')\n",
    "    for sentence in sentences:\n",
    "        sentence = sentence.strip(\"\\n\")\n",
    "        if sentence != \" \":\n",
    "            output_data.write(sentence+'\\n')\n",
    "    output_data.close()"
   ]
  },
  {
   "cell_type": "code",
   "execution_count": 12,
   "metadata": {
    "ExecuteTime": {
     "end_time": "2019-05-29T05:00:46.300695Z",
     "start_time": "2019-05-29T05:00:46.294247Z"
    }
   },
   "outputs": [],
   "source": [
    "sentense_split('./input_1.txt','./input_split.txt')"
   ]
  },
  {
   "cell_type": "raw",
   "metadata": {},
   "source": [
    "===================================我是分隔符============================================"
   ]
  },
  {
   "cell_type": "code",
   "execution_count": 51,
   "metadata": {
    "ExecuteTime": {
     "end_time": "2019-05-29T08:03:49.376158Z",
     "start_time": "2019-05-29T08:03:49.203056Z"
    }
   },
   "outputs": [
    {
     "name": "stdout",
     "output_type": "stream",
     "text": [
      "['2018年9月16日', '2019-05-26', '下午5时20分50秒', '16日凌晨', '上午9时40分']\n",
      "[0, 14, 47, 78, 101]\n",
      "[10, 24, 57, 83, 108]\n"
     ]
    }
   ],
   "source": [
    "#问题2：按正则表达式识别出来的时间要素可能会排到后面（但在文本中顺序是在前面的）\n",
    "b=get_time('2018年9月16日，香港，2019-05-26,台风“山竹”正在继续稳定地移向广东西部沿岸，下午5时20分50秒进一步逼近香港，带来狂风暴雨。香港天文台自16日凌晨起数小时内3次升级热带气旋警告信号，上午9时40分发出最高级别的十号飓风信号。')\n",
    "a=get_time('2018年9月18日23:57，中国应急管理部18日晚间发布台风“山竹”灾情及救援救灾情况。截至18日17时，台风“山竹”已造成广东、广西、海南、湖南、贵州5省(区)近300万人受灾，5人死亡，1人失踪。此外，160.1万人紧急避险转移和安置；1200余间房屋倒塌，800余间严重损坏，近3500间一般损坏；农作物受灾面积174.4千公顷，其中绝收3.3千公顷；直接经济损失52亿元(人民币，下同)。截至9月18日17时，广东、广西、海南、湖南、贵州5省(区)消防部队共处置警情3167起，出动车(舟艇)4565辆(艘)次，消防官兵23650人(次)，营救2454人、疏散转移11759人。17日8时和18日8时，国家减灾委、应急管理部先后紧急启动国家Ⅳ级救灾应急响应，应急管理部前期派出的工作组就地转为国家救灾应急响应工作组，全力指导和协助地方开展救灾工作。同时，应急管理部要求中央救灾物资福州、长沙、南宁、昆明等储备库加强应急值守，做好中央救灾物资调运准备，确保一旦灾区需要，中央救灾物资能及时运抵灾区，帮助灾区做好受灾民众生活安置工作。灾害发生后，广东省减灾委、省民政厅启动Ⅱ级救灾应急响应，会同财政厅下拨6000万元救灾资金，地方各级财政投入1700余万元紧急采购救灾生活物资，发放14万多件衣被、10万多张凉席、1.2万张折叠床以及大量大米、矿泉水等救灾物资。广西壮族自治区减灾委、民政厅启动Ⅲ级救灾应急响应，向玉林等重灾区派出工作组，地方各级财政安排救灾资金3500余万元，支持做好受灾民众生活保障工作。应急管理部称，目前灾区救援救灾工作正有序开展。(记者 陈溯)')\n",
    "for i in b:\n",
    "    time=i[0]\n",
    "    s=i[1]\n",
    "    e=i[2]\n",
    "    print(i[0])\n",
    "    print(i[1])\n",
    "    print(i[2])"
   ]
  },
  {
   "cell_type": "code",
   "execution_count": 14,
   "metadata": {
    "ExecuteTime": {
     "end_time": "2019-05-29T05:00:57.494810Z",
     "start_time": "2019-05-29T05:00:57.486379Z"
    }
   },
   "outputs": [
    {
     "name": "stdout",
     "output_type": "stream",
     "text": [
      "[0, 14, 47, 78, 101] [10, 24, 57, 83, 108] ['2018年9月16日', '2019-05-26', '下午5时20分50秒', '16日凌晨', '上午9时40分']\n"
     ]
    }
   ],
   "source": [
    "#针对问题2的解决方法：冒泡排序\n",
    "length = len(s)\n",
    "\n",
    "for i in range(0,length-1):\n",
    "    for j in range(0,length-1-i):\n",
    "        if s[j] > s[j+1]:\n",
    "            tmp1 = s[j]\n",
    "            tmp2 = e[j]\n",
    "            tmp3 = time[j]\n",
    "            s[j]=s[j+1]\n",
    "            e[j]=e[j+1]\n",
    "            time[j]=time[j+1]\n",
    "            s[j+1] = tmp1\n",
    "            e[j+1] = tmp2\n",
    "            time[j+1] = tmp3\n",
    "            \n",
    "print(s,e,time)                "
   ]
  },
  {
   "cell_type": "raw",
   "metadata": {},
   "source": [
    "===================================我是分隔符============================================"
   ]
  },
  {
   "cell_type": "code",
   "execution_count": 15,
   "metadata": {
    "ExecuteTime": {
     "end_time": "2019-05-29T05:01:05.069725Z",
     "start_time": "2019-05-29T05:01:05.058815Z"
    },
    "collapsed": true
   },
   "outputs": [
    {
     "name": "stdout",
     "output_type": "stream",
     "text": [
      "Bubble Sort: \n",
      "1\n",
      "4\n",
      "0\n",
      "5\n",
      "6\n",
      "=============================\n",
      "1\n",
      "0\n",
      "4\n",
      "5\n",
      "6\n",
      "=============================\n",
      "0\n",
      "1\n",
      "4\n",
      "5\n",
      "6\n",
      "=============================\n",
      "0\n",
      "1\n",
      "4\n",
      "5\n",
      "6\n",
      "=============================\n"
     ]
    }
   ],
   "source": [
    "#冒泡排序法\n",
    "def bubbleSort(myList):\n",
    "    #首先获取list的总长度,为之后的循环比较作准备\n",
    "    length = len(myList)\n",
    "    \n",
    "    #一共进行几轮列表比较,一共是(length-1)轮\n",
    "    for i in range(0,length-1):\n",
    "        \n",
    "        #每一轮的比较,注意range的变化,这里需要进行length-1-长的比较,注意-i的意义(可以减少比较已经排好序的元素)\n",
    "        for j in range(0,length-1-i):\n",
    "            \n",
    "            #交换\n",
    "            if myList[j] > myList[j+1]:\n",
    "                tmp = myList[j]\n",
    "                myList[j]=myList[j+1]\n",
    "                myList[j+1] = tmp\n",
    "                \n",
    "        #打印每一轮交换后的列表       \n",
    "        for item in myList:\n",
    "            print(item)\n",
    "        print(\"=============================\")\n",
    "\n",
    "print(\"Bubble Sort: \")\n",
    "bubbleSort([1,4,5,0,6])"
   ]
  },
  {
   "cell_type": "raw",
   "metadata": {},
   "source": [
    "===================================我是分隔符============================================"
   ]
  },
  {
   "cell_type": "code",
   "execution_count": 16,
   "metadata": {
    "ExecuteTime": {
     "end_time": "2019-05-29T05:01:12.159793Z",
     "start_time": "2019-05-29T05:01:11.328996Z"
    }
   },
   "outputs": [
    {
     "name": "stdout",
     "output_type": "stream",
     "text": [
      "['2018年9月18日23:57', '18日晚间', '18日17时', '9月18日17时', '17日8时', '18日8时', '目前']\n",
      "[0, 23, 48, 202, 295, 301, 665]\n",
      "[15, 28, 54, 210, 300, 306, 667]\n"
     ]
    }
   ],
   "source": [
    "a=get_time('2018年9月18日23:57，中国应急管理部18日晚间发布台风“山竹”灾情及救援救灾情况。截至18日17时，台风“山竹”已造成广东、广西、海南、湖南、贵州5省(区)近300万人受灾，5人死亡，1人失踪。此外，160.1万人紧急避险转移和安置；1200余间房屋倒塌，800余间严重损坏，近3500间一般损坏；农作物受灾面积174.4千公顷，其中绝收3.3千公顷；直接经济损失52亿元(人民币，下同)。截至9月18日17时，广东、广西、海南、湖南、贵州5省(区)消防部队共处置警情3167起，出动车(舟艇)4565辆(艘)次，消防官兵23650人(次)，营救2454人、疏散转移11759人。17日8时和18日8时，国家减灾委、应急管理部先后紧急启动国家Ⅳ级救灾应急响应，应急管理部前期派出的工作组就地转为国家救灾应急响应工作组，全力指导和协助地方开展救灾工作。同时，应急管理部要求中央救灾物资福州、长沙、南宁、昆明等储备库加强应急值守，做好中央救灾物资调运准备，确保一旦灾区需要，中央救灾物资能及时运抵灾区，帮助灾区做好受灾民众生活安置工作。灾害发生后，广东省减灾委、省民政厅启动Ⅱ级救灾应急响应，会同财政厅下拨6000万元救灾资金，地方各级财政投入1700余万元紧急采购救灾生活物资，发放14万多件衣被、10万多张凉席、1.2万张折叠床以及大量大米、矿泉水等救灾物资。广西壮族自治区减灾委、民政厅启动Ⅲ级救灾应急响应，向玉林等重灾区派出工作组，地方各级财政安排救灾资金3500余万元，支持做好受灾民众生活保障工作。应急管理部称，目前灾区救援救灾工作正有序开展。(记者 陈溯)')\n",
    "for i in a:\n",
    "    time=i[0]\n",
    "    s=i[1]\n",
    "    e=i[2]\n",
    "    \n",
    "    print(i[0])\n",
    "    print(i[1])\n",
    "    print(i[2])"
   ]
  },
  {
   "cell_type": "code",
   "execution_count": 17,
   "metadata": {
    "ExecuteTime": {
     "end_time": "2019-05-29T05:01:25.634624Z",
     "start_time": "2019-05-29T05:01:25.623713Z"
    },
    "scrolled": true
   },
   "outputs": [
    {
     "name": "stdout",
     "output_type": "stream",
     "text": [
      "[('2018年', 0)] [('9月', 0), ('9月', 202)] [('18日', 0), ('18日', 23), ('18日', 48), ('18日', 202), ('17日', 295), ('18日', 301)]\n"
     ]
    }
   ],
   "source": [
    "# 问题3：时间省略问题，比如前文提到过的 年/月/日 ，后文可能会省略，所以需要补齐。\n",
    "rel_time = '2018年9月18日23:57' # 文档发布时间\n",
    "year = []\n",
    "month = []\n",
    "day = []\n",
    "\n",
    "for i in range(len(s)):\n",
    "    # for i in time:\n",
    "    if time[i].find('年') >= 0:\n",
    "        result_year = re.finditer(r'.{4}年', time[i])\n",
    "        for j in result_year:\n",
    "            # year.append(j.group())\n",
    "            year.append((j.group(), s[i]))\n",
    "\n",
    "    if time[i].find('月') >= 0:\n",
    "        result_month = re.finditer(r'(\\d)*.月', time[i])\n",
    "        for j in result_month:\n",
    "            month.append((j.group(), s[i]))\n",
    "\n",
    "    if time[i].find('日') >= 0 or time[i].find('号') >= 0:\n",
    "        result_year = re.finditer(r'\\d{1,2}[日号]', time[i])\n",
    "        for j in result_year:\n",
    "            # year.append(j.group())\n",
    "            day.append((j.group(), s[i]))\n",
    "\n",
    "print(year, month, day)"
   ]
  },
  {
   "cell_type": "code",
   "execution_count": 18,
   "metadata": {
    "ExecuteTime": {
     "end_time": "2019-05-29T05:01:30.621425Z",
     "start_time": "2019-05-29T05:01:30.607539Z"
    },
    "collapsed": true
   },
   "outputs": [
    {
     "name": "stdout",
     "output_type": "stream",
     "text": [
      "18日晚间 23\n",
      "9月18日晚间\n",
      "9月18日晚间 23\n",
      "2018年9月18日晚间\n",
      "18日17时 48\n",
      "9月18日17时\n",
      "9月18日17时 48\n",
      "2018年9月18日17时\n",
      "9月18日17时 202\n",
      "2018年9月18日17时\n",
      "17日8时 295\n",
      "9月17日8时\n",
      "9月17日8时 295\n",
      "2018年9月17日8时\n",
      "18日8时 301\n",
      "9月18日8时\n",
      "9月18日8时 301\n",
      "2018年9月18日8时\n",
      "目前 665\n",
      "18日目前\n",
      "18日目前 665\n",
      "9月18日目前\n",
      "9月18日目前 665\n",
      "2018年9月18日目前\n"
     ]
    }
   ],
   "source": [
    "#针对问题3的解决方法：根据前文补齐时间\n",
    "t=''\n",
    "for i in range(len(s)):\n",
    "    if time[i].find('日') < 0 and time[i].find('号') < 0:        \n",
    "        print(time[i],s[i]) # 原始时间\n",
    "        a=[]\n",
    "        for j in day:            \n",
    "            if s[i]-j[1]>0:\n",
    "                #print(j[1],j[0])\n",
    "                a.append((j[1],j[0]))\n",
    "                \n",
    "        #print(max(a)[1])\n",
    "        if len(a):\n",
    "            t=max(a)[1]+time[i]\n",
    "            time[i] = t\n",
    "            print(time[i]) # 加上天后的时间\n",
    "        \n",
    "    if time[i].find('月') < 0:        \n",
    "        print(time[i],s[i]) # 原始时间\n",
    "        a=[]\n",
    "        for j in month:            \n",
    "            if s[i]-j[1]>0:\n",
    "                #print(j[1],j[0])\n",
    "                a.append((j[1],j[0]))\n",
    "                \n",
    "        #print(max(a)[1])\n",
    "        if len(a):\n",
    "            t=max(a)[1]+time[i]\n",
    "            time[i] = t\n",
    "            print(time[i]) # 加上月份后的时间\n",
    "        \n",
    "    if time[i].find('年') < 0:        \n",
    "        print(time[i],s[i]) # 原始时间\n",
    "        a=[]\n",
    "        for j in year:            \n",
    "            if s[i]-j[1]>0:\n",
    "                #print(j[1],j[0])\n",
    "                a.append((j[1],j[0]))\n",
    "                \n",
    "        #print(max(a)[1])\n",
    "        if len(a):\n",
    "            t=max(a)[1]+time[i]\n",
    "            time[i] = t\n",
    "            print(time[i]) # 加上年份后的时间"
   ]
  },
  {
   "cell_type": "code",
   "execution_count": 19,
   "metadata": {
    "ExecuteTime": {
     "end_time": "2019-05-29T05:01:48.402363Z",
     "start_time": "2019-05-29T05:01:48.386987Z"
    }
   },
   "outputs": [
    {
     "data": {
      "text/plain": [
       "['2018年9月18日23:57',\n",
       " '2018年9月18日晚间',\n",
       " '2018年9月18日17时',\n",
       " '2018年9月18日17时',\n",
       " '2018年9月17日8时',\n",
       " '2018年9月18日8时',\n",
       " '2018年9月18日目前']"
      ]
     },
     "execution_count": 19,
     "metadata": {},
     "output_type": "execute_result"
    }
   ],
   "source": [
    "time"
   ]
  },
  {
   "cell_type": "raw",
   "metadata": {},
   "source": [
    "===================================我是分隔符============================================"
   ]
  },
  {
   "cell_type": "raw",
   "metadata": {},
   "source": [
    "处理txt格式太麻烦了，可能用json格式或者excel比较方便，\n",
    "直接存到数组里（文章编号，发布时间，来源，文章内容）"
   ]
  },
  {
   "cell_type": "code",
   "execution_count": 80,
   "metadata": {
    "ExecuteTime": {
     "end_time": "2019-05-29T13:54:10.813256Z",
     "start_time": "2019-05-29T13:54:10.810280Z"
    }
   },
   "outputs": [],
   "source": [
    "import pandas as pd"
   ]
  },
  {
   "cell_type": "code",
   "execution_count": 86,
   "metadata": {
    "ExecuteTime": {
     "end_time": "2019-05-29T13:54:47.685123Z",
     "start_time": "2019-05-29T13:54:47.650898Z"
    }
   },
   "outputs": [
    {
     "data": {
      "text/html": [
       "<div>\n",
       "<style scoped>\n",
       "    .dataframe tbody tr th:only-of-type {\n",
       "        vertical-align: middle;\n",
       "    }\n",
       "\n",
       "    .dataframe tbody tr th {\n",
       "        vertical-align: top;\n",
       "    }\n",
       "\n",
       "    .dataframe thead th {\n",
       "        text-align: right;\n",
       "    }\n",
       "</style>\n",
       "<table border=\"1\" class=\"dataframe\">\n",
       "  <thead>\n",
       "    <tr style=\"text-align: right;\">\n",
       "      <th></th>\n",
       "      <th>id</th>\n",
       "      <th>release_time</th>\n",
       "      <th>source</th>\n",
       "      <th>title</th>\n",
       "      <th>text</th>\n",
       "    </tr>\n",
       "  </thead>\n",
       "  <tbody>\n",
       "    <tr>\n",
       "      <th>0</th>\n",
       "      <td>1</td>\n",
       "      <td>2018年09月18日23:57</td>\n",
       "      <td>中新网</td>\n",
       "      <td>台风“山竹”已造成中国5人死亡1人失踪</td>\n",
       "      <td>中国应急管理部18日晚间发布台风“山竹”灾情及救援救灾情况。截至18日17时，台风“...</td>\n",
       "    </tr>\n",
       "    <tr>\n",
       "      <th>1</th>\n",
       "      <td>2</td>\n",
       "      <td>2018年09月16日14:59</td>\n",
       "      <td>新华社</td>\n",
       "      <td>台风“山竹”在菲律宾已致25人死亡</td>\n",
       "      <td>新华社马尼拉9月16日电（记者袁梦晨）据菲律宾媒体16日报道，台风“山竹”在菲律宾造...</td>\n",
       "    </tr>\n",
       "  </tbody>\n",
       "</table>\n",
       "</div>"
      ],
      "text/plain": [
       "   id      release_time source                title  \\\n",
       "0   1  2018年09月18日23:57    中新网  台风“山竹”已造成中国5人死亡1人失踪   \n",
       "1   2  2018年09月16日14:59    新华社    台风“山竹”在菲律宾已致25人死亡   \n",
       "\n",
       "                                                text  \n",
       "0      中国应急管理部18日晚间发布台风“山竹”灾情及救援救灾情况。截至18日17时，台风“...  \n",
       "1      新华社马尼拉9月16日电（记者袁梦晨）据菲律宾媒体16日报道，台风“山竹”在菲律宾造...  "
      ]
     },
     "execution_count": 86,
     "metadata": {},
     "output_type": "execute_result"
    }
   ],
   "source": [
    "posi=pd.read_excel('./test.xlsx')\n",
    "posi.head()"
   ]
  },
  {
   "cell_type": "code",
   "execution_count": 89,
   "metadata": {
    "ExecuteTime": {
     "end_time": "2019-05-29T13:55:33.646030Z",
     "start_time": "2019-05-29T13:55:33.639583Z"
    }
   },
   "outputs": [],
   "source": [
    "news_id=posi[\"id\"]\n",
    "rel_time=posi[\"release_time\"]\n",
    "source=posi[\"source\"]\n",
    "title=posi[\"title\"]\n",
    "text=posi[\"text\"]\n",
    "raw=[]\n",
    "for i in text:\n",
    "    raw.append(i.replace('\\n','').replace(' ',''))"
   ]
  },
  {
   "cell_type": "code",
   "execution_count": 91,
   "metadata": {
    "ExecuteTime": {
     "end_time": "2019-05-29T13:55:45.127841Z",
     "start_time": "2019-05-29T13:55:45.120402Z"
    },
    "collapsed": true
   },
   "outputs": [
    {
     "data": {
      "text/plain": [
       "'中国应急管理部18日晚间发布台风“山竹”灾情及救援救灾情况。截至18日17时，台风“山竹”已造成广东、广西、海南、湖南、贵州5省(区)近300万人受灾，5人死亡，1人失踪。此外，160.1万人紧急避险转移和安置；1200余间房屋倒塌，800余间严重损坏，近3500间一般损坏；农作物受灾面积174.4千公顷，其中绝收3.3千公顷；直接经济损失52亿元(人民币，下同)。截至9月18日17时，广东、广西、海南、湖南、贵州5省(区)消防部队共处置警情3167起，出动车(舟艇)4565辆(艘)次，消防官兵23650人(次)，营救2454人、疏散转移11759人。17日8时和18日8时，国家减灾委、应急管理部先后紧急启动国家Ⅳ级救灾应急响应，应急管理部前期派出的工作组就地转为国家救灾应急响应工作组，全力指导和协助地方开展救灾工作。同时，应急管理部要求中央救灾物资福州、长沙、南宁、昆明等储备库加强应急值守，做好中央救灾物资调运准备，确保一旦灾区需要，中央救灾物资能及时运抵灾区，帮助灾区做好受灾民众生活安置工作。灾害发生后，广东省减灾委、省民政厅启动Ⅱ级救灾应急响应，会同财政厅下拨6000万元救灾资金，地方各级财政投入1700余万元紧急采购救灾生活物资，发放14万多件衣被、10万多张凉席、1.2万张折叠床以及大量大米、矿泉水等救灾物资。广西壮族自治区减灾委、民政厅启动Ⅲ级救灾应急响应，向玉林等重灾区派出工作组，地方各级财政安排救灾资金3500余万元，支持做好受灾民众生活保障工作。应急管理部称，目前灾区救援救灾工作正有序开展。(记者陈溯)'"
      ]
     },
     "execution_count": 91,
     "metadata": {},
     "output_type": "execute_result"
    }
   ],
   "source": [
    "raw[0]"
   ]
  },
  {
   "cell_type": "code",
   "execution_count": 92,
   "metadata": {
    "ExecuteTime": {
     "end_time": "2019-05-29T13:55:48.431945Z",
     "start_time": "2019-05-29T13:55:48.415578Z"
    }
   },
   "outputs": [
    {
     "data": {
      "text/plain": [
       "'2018年09月18日23:57'"
      ]
     },
     "execution_count": 92,
     "metadata": {},
     "output_type": "execute_result"
    }
   ],
   "source": [
    "rel_time[0]"
   ]
  },
  {
   "cell_type": "raw",
   "metadata": {},
   "source": [
    "===================================我是分隔符============================================"
   ]
  },
  {
   "cell_type": "code",
   "execution_count": 74,
   "metadata": {
    "ExecuteTime": {
     "end_time": "2019-05-29T13:52:58.331247Z",
     "start_time": "2019-05-29T13:52:58.298512Z"
    },
    "code_folding": [
     1
    ]
   },
   "outputs": [],
   "source": [
    "# 时间规范化\n",
    "def time_process(rel_time,time,s,e):\n",
    "    #rel_time = '2018年9月18日23:57' # 文档发布时间\n",
    "    day_rel=re.search(r'\\d{1,2}[日号]',rel_time,flags=0).group()\n",
    "    month_rel=re.search(r'\\d{1,2}[月]',rel_time,flags=0).group()\n",
    "    year_rel=re.search(r'.{4}年',rel_time,flags=0).group()\n",
    "    year = []\n",
    "    month = []\n",
    "    day = []\n",
    "    \n",
    "    for i in range(len(s)):\n",
    "        if time[i].find('年') >= 0:\n",
    "            result_year = re.finditer(r'.{4}年', time[i])\n",
    "            for j in result_year:\n",
    "                # year.append(j.group())\n",
    "                year.append((j.group(), s[i]))\n",
    "\n",
    "        if time[i].find('月') >= 0:\n",
    "            result_month = re.finditer(r'(\\d)*.月', time[i])\n",
    "            for j in result_month:\n",
    "                month.append((j.group(), s[i]))\n",
    "\n",
    "        if time[i].find('日') >= 0 or time[i].find('号') >= 0:\n",
    "            result_year = re.finditer(r'\\d{1,2}[日号]', time[i])\n",
    "            for j in result_year:\n",
    "                # year.append(j.group())\n",
    "                day.append((j.group(), s[i]))\n",
    "                \n",
    "    t=''\n",
    "    for i in range(len(s)):\n",
    "        if time[i].find('日') < 0 and time[i].find('号') < 0:        \n",
    "            #print(time[i],s[i]) # 原始时间\n",
    "            a=[]\n",
    "            for j in day:            \n",
    "                if s[i]-j[1]>0:\n",
    "                    #print(j[1],j[0])\n",
    "                    a.append((j[1],j[0]))\n",
    "                \n",
    "            #print(max(a)[1])\n",
    "            if len(a):\n",
    "                t=max(a)[1]+time[i]\n",
    "                time[i] = t\n",
    "                #print(time[i]) # 加上天后的时间\n",
    "        \n",
    "        if time[i].find('月') < 0:        \n",
    "            #print(time[i],s[i]) # 原始时间\n",
    "            a=[]\n",
    "            for j in month:            \n",
    "                if s[i]-j[1]>0:\n",
    "                    #print(j[1],j[0])\n",
    "                    a.append((j[1],j[0]))\n",
    "                \n",
    "            #print(max(a)[1])\n",
    "            if len(a):\n",
    "                t=max(a)[1]+time[i]\n",
    "                time[i] = t\n",
    "                #print(time[i]) # 加上月份后的时间\n",
    "        \n",
    "        if time[i].find('年') < 0:        \n",
    "            #print(time[i],s[i]) # 原始时间\n",
    "            a=[]\n",
    "            for j in year:            \n",
    "                if s[i]-j[1]>0:\n",
    "                    #print(j[1],j[0])\n",
    "                    a.append((j[1],j[0]))\n",
    "                \n",
    "            #print(max(a)[1])\n",
    "            if len(a):\n",
    "                t=max(a)[1]+time[i]\n",
    "                time[i] = t\n",
    "               # print(time[i]) # 加上年份后的时间\n",
    "    \n",
    "    m=''\n",
    "    for i in range(len(time)):\n",
    "        if time[i].find('日') < 0 and time[i].find('号') < 0:        \n",
    "            #print(time[i],s[i]) # 原始时间\n",
    "            m=day_rel+time[i]\n",
    "            time[i]=m\n",
    "            \n",
    "        \n",
    "        if time[i].find('月') < 0:        \n",
    "            #print(time[i],s[i]) # 原始时间\n",
    "            m=month_rel+time[i]\n",
    "            time[i]=m\n",
    "        \n",
    "        if time[i].find('年') < 0:        \n",
    "            #print(time[i],s[i]) # 原始时间\n",
    "            m=year_rel+time[i]\n",
    "            time[i]=m\n",
    "    \n",
    "    return time"
   ]
  },
  {
   "cell_type": "code",
   "execution_count": 93,
   "metadata": {
    "ExecuteTime": {
     "end_time": "2019-05-29T13:55:53.036413Z",
     "start_time": "2019-05-29T13:55:52.014161Z"
    },
    "collapsed": true
   },
   "outputs": [
    {
     "name": "stdout",
     "output_type": "stream",
     "text": [
      "['18日晚间', '18日17时', '9月18日17时', '17日8时', '18日8时', '目前']\n",
      "[7, 32, 186, 279, 285, 649]\n",
      "[12, 38, 194, 284, 290, 651]\n"
     ]
    },
    {
     "data": {
      "text/plain": [
       "['2018年09月18日晚间',\n",
       " '2018年09月18日17时',\n",
       " '2018年9月18日17时',\n",
       " '2018年9月17日8时',\n",
       " '2018年9月18日8时',\n",
       " '2018年9月18日目前']"
      ]
     },
     "execution_count": 93,
     "metadata": {},
     "output_type": "execute_result"
    }
   ],
   "source": [
    "r=get_time(raw[0])\n",
    "time_rel=rel_time[0]\n",
    "for i in r:\n",
    "    time=i[0]\n",
    "    s=i[1]\n",
    "    e=i[2]\n",
    "    \n",
    "    print(i[0])\n",
    "    print(i[1])\n",
    "    print(i[2])\n",
    "    \n",
    "time_process(time_rel,time,s,e)\n"
   ]
  },
  {
   "cell_type": "code",
   "execution_count": null,
   "metadata": {
    "ExecuteTime": {
     "end_time": "2019-05-29T13:55:57.239535Z",
     "start_time": "2019-05-29T13:55:57.232094Z"
    }
   },
   "outputs": [],
   "source": []
  },
  {
   "cell_type": "raw",
   "metadata": {
    "ExecuteTime": {
     "end_time": "2019-05-29T04:42:40.187631Z",
     "start_time": "2019-05-29T04:42:40.183170Z"
    }
   },
   "source": [
    "===================================我是分隔符============================================"
   ]
  },
  {
   "cell_type": "raw",
   "metadata": {},
   "source": [
    "相对时间的规范化与推理\n",
    "对一些相对时间无法处理：比如昨天、前天、明天、去年、上半年、明年、未来五年、过去两年、星期天、周三..."
   ]
  },
  {
   "cell_type": "raw",
   "metadata": {},
   "source": [
    "待处理......"
   ]
  },
  {
   "cell_type": "raw",
   "metadata": {},
   "source": [
    "===================================我是分隔符============================================"
   ]
  },
  {
   "cell_type": "raw",
   "metadata": {},
   "source": [
    "特定时间的规范化处理（季节，节假日等）\n",
    "比如：国庆节、圣诞节、元旦、教师节、端午、儿童节..."
   ]
  },
  {
   "cell_type": "raw",
   "metadata": {},
   "source": [
    "待处理......"
   ]
  },
  {
   "cell_type": "raw",
   "metadata": {},
   "source": [
    "===================================我是分隔符============================================"
   ]
  },
  {
   "cell_type": "code",
   "execution_count": null,
   "metadata": {},
   "outputs": [],
   "source": []
  },
  {
   "cell_type": "code",
   "execution_count": null,
   "metadata": {},
   "outputs": [],
   "source": []
  },
  {
   "cell_type": "code",
   "execution_count": null,
   "metadata": {},
   "outputs": [],
   "source": []
  },
  {
   "cell_type": "code",
   "execution_count": null,
   "metadata": {},
   "outputs": [],
   "source": []
  },
  {
   "cell_type": "code",
   "execution_count": null,
   "metadata": {},
   "outputs": [],
   "source": []
  },
  {
   "cell_type": "code",
   "execution_count": null,
   "metadata": {},
   "outputs": [],
   "source": []
  },
  {
   "cell_type": "code",
   "execution_count": null,
   "metadata": {},
   "outputs": [],
   "source": []
  },
  {
   "cell_type": "code",
   "execution_count": null,
   "metadata": {},
   "outputs": [],
   "source": []
  },
  {
   "cell_type": "code",
   "execution_count": null,
   "metadata": {},
   "outputs": [],
   "source": []
  },
  {
   "cell_type": "code",
   "execution_count": null,
   "metadata": {},
   "outputs": [],
   "source": []
  },
  {
   "cell_type": "code",
   "execution_count": null,
   "metadata": {},
   "outputs": [],
   "source": []
  },
  {
   "cell_type": "code",
   "execution_count": null,
   "metadata": {},
   "outputs": [],
   "source": []
  },
  {
   "cell_type": "code",
   "execution_count": null,
   "metadata": {},
   "outputs": [],
   "source": []
  },
  {
   "cell_type": "code",
   "execution_count": null,
   "metadata": {},
   "outputs": [],
   "source": []
  },
  {
   "cell_type": "code",
   "execution_count": null,
   "metadata": {},
   "outputs": [],
   "source": []
  },
  {
   "cell_type": "code",
   "execution_count": null,
   "metadata": {},
   "outputs": [],
   "source": []
  },
  {
   "cell_type": "code",
   "execution_count": 166,
   "metadata": {
    "ExecuteTime": {
     "end_time": "2019-05-28T08:21:53.285201Z",
     "start_time": "2019-05-28T08:21:53.040166Z"
    }
   },
   "outputs": [],
   "source": [
    "text1=thu1.cut(\"8点20分，香港，台风“山竹”正在继续稳定地移向广东西部沿岸，2004.05.23，进一步逼近香港，带来狂风暴雨。香港天文台自16日凌晨起数小时内3次升级热带气旋警告信号，上午9时40分发出最高级别的十号飓风信号。\")\n",
    "text2=thu1.cut(\"2012年7月31日下午4点，他到了网易杭研大厦\")"
   ]
  },
  {
   "cell_type": "code",
   "execution_count": 167,
   "metadata": {
    "ExecuteTime": {
     "end_time": "2019-05-28T08:21:53.698359Z",
     "start_time": "2019-05-28T08:21:53.691429Z"
    }
   },
   "outputs": [
    {
     "name": "stdout",
     "output_type": "stream",
     "text": [
      "[['8点20', 'm'], ['分', 'q'], ['，', 'w'], ['香港', 'ns'], ['，', 'w'], ['台风', 'n'], ['“', 'w'], ['山竹', 'n'], ['”', 'w'], ['正在', 'd'], ['继续', 'v'], ['稳定', 'a'], ['地', 'u'], ['移', 'v'], ['向', 'p'], ['广东', 'ns'], ['西部', 'f'], ['沿岸', 'f'], ['，', 'w'], ['2004', 'm'], ['.', 'w'], ['0', 'j'], ['5', 'j'], ['.', 'w'], ['2', 'j'], ['3', 'm'], ['，', 'w'], ['进一步', 'd'], ['逼近', 'v'], ['香港', 'ns'], ['，', 'w'], ['带', 'v'], ['来', 'v'], ['狂风暴雨', 'i'], ['。', 'w'], ['香港', 'ns'], ['天文台', 'n'], ['自', 'p'], ['16日', 't'], ['凌晨', 't'], ['起', 'v'], ['数', 'm'], ['小时', 'n'], ['内', 'f'], ['3', 'm'], ['次', 'q'], ['升级', 'v'], ['热带', 'n'], ['气旋', 'n'], ['警告', 'v'], ['信号', 'n'], ['，', 'w'], ['上午', 't'], ['9时', 't'], ['40分', 't'], ['发出', 'v'], ['最高', 'a'], ['级别', 'n'], ['的', 'u'], ['十', 'm'], ['号', 'q'], ['飓风', 'n'], ['信号', 'n'], ['。', 'w']]\n"
     ]
    }
   ],
   "source": [
    "print(text1)"
   ]
  },
  {
   "cell_type": "code",
   "execution_count": 168,
   "metadata": {
    "ExecuteTime": {
     "end_time": "2019-05-28T08:21:56.287650Z",
     "start_time": "2019-05-28T08:21:56.280707Z"
    }
   },
   "outputs": [],
   "source": [
    "time=''\n",
    "for i in text1:\n",
    "    if i[1]=='t':\n",
    "        time+=i[0]\n",
    "    else:\n",
    "        time+=' '\n",
    "time=time.split()\n"
   ]
  },
  {
   "cell_type": "code",
   "execution_count": 169,
   "metadata": {
    "ExecuteTime": {
     "end_time": "2019-05-28T08:21:56.670679Z",
     "start_time": "2019-05-28T08:21:56.664728Z"
    }
   },
   "outputs": [
    {
     "data": {
      "text/plain": [
       "['16日凌晨', '上午9时40分']"
      ]
     },
     "execution_count": 169,
     "metadata": {},
     "output_type": "execute_result"
    }
   ],
   "source": [
    "time"
   ]
  },
  {
   "cell_type": "code",
   "execution_count": 176,
   "metadata": {
    "ExecuteTime": {
     "end_time": "2019-05-28T08:30:07.796391Z",
     "start_time": "2019-05-28T08:30:07.789942Z"
    }
   },
   "outputs": [],
   "source": [
    "text='2004/04/23，香港，台风“山竹”正在继续稳定地移向广东西部沿岸，9-23，进一步逼近香港，02/23带来狂风暴雨。香港天文台自16日凌晨起数小时内3次升级热带气旋警告信号，上午9时40分发出最高级别的十号飓风信号。'"
   ]
  },
  {
   "cell_type": "code",
   "execution_count": 179,
   "metadata": {
    "ExecuteTime": {
     "end_time": "2019-05-28T08:30:51.939775Z",
     "start_time": "2019-05-28T08:30:51.758236Z"
    }
   },
   "outputs": [],
   "source": [
    "time=''\n",
    "text1=thu1.cut(text)\n",
    "for i in text1:\n",
    "    if i[1]=='t':\n",
    "        time+=i[0]\n",
    "    else:\n",
    "        time+=' '\n",
    "time=time.split()\n",
    "pattern1 = re.compile(r'\\d+[/._-]\\d+([/._-]\\d+)*', re.M) \n",
    "# 2004.05.23   2019.06   9.16   02/23   9-23\n",
    "pattern2 = re.compile(r'\\d+[点时]\\d+分(\\d+秒)*', re.M) \n",
    "# 10点50分6秒   8点20分\n",
    "pattern3 = re.compile(r'\\d+[:：]\\d+', re.M) \n",
    "# 8：23   16:59\n",
    "result1 = pattern1.finditer(text)\n",
    "result2 = pattern2.finditer(text)\n",
    "result3 = pattern3.finditer(text)\n",
    "for i in result1:\n",
    "    time.append(i.group())\n",
    "for i in result2:\n",
    "    time.append(i.group())\n",
    "for i in result3:\n",
    "    time.append(i.group())\n",
    "    "
   ]
  },
  {
   "cell_type": "code",
   "execution_count": 180,
   "metadata": {
    "ExecuteTime": {
     "end_time": "2019-05-28T08:30:52.385180Z",
     "start_time": "2019-05-28T08:30:52.376749Z"
    }
   },
   "outputs": [
    {
     "data": {
      "text/plain": [
       "['16日凌晨', '上午9时40分', '2004/04/23', '9-23', '02/23', '9时40分']"
      ]
     },
     "execution_count": 180,
     "metadata": {},
     "output_type": "execute_result"
    }
   ],
   "source": [
    "time"
   ]
  },
  {
   "cell_type": "code",
   "execution_count": 182,
   "metadata": {
    "ExecuteTime": {
     "end_time": "2019-05-28T08:35:00.541602Z",
     "start_time": "2019-05-28T08:35:00.535153Z"
    },
    "scrolled": true
   },
   "outputs": [],
   "source": [
    "pattern1 = re.compile(r'\\d+[/._-]\\d+([/._-]\\d+)*', re.M) \n",
    "# 2004.05.23   2019.06   9.16   02/23   9-23\n",
    "pattern2 = re.compile(r'\\d+[点时]\\d+分(\\d+秒)*', re.M) \n",
    "# 10点50分6秒   8点20分\n",
    "pattern3 = re.compile(r'\\d+[:：]\\d+', re.M) \n",
    "# 8：23   16:59\n",
    "result1 = pattern1.finditer(text)\n",
    "result2 = pattern2.finditer(text)\n",
    "result3 = pattern3.finditer(text)\n",
    "# result=re.finditer(r'\\d{4}[/._-]\\d{2}[/._-]\\d{2}',text,re.M)\n",
    "#print(re.finditer(r'\\d{4}[/._-]\\d{2}[/._-]\\d{2}', text, re.M))\n",
    "#print(re.findall(r'\\d{4}[/._-]\\d{2}[/._-]\\d{2}', text, re.M))"
   ]
  },
  {
   "cell_type": "code",
   "execution_count": 183,
   "metadata": {
    "ExecuteTime": {
     "end_time": "2019-05-28T08:35:01.558782Z",
     "start_time": "2019-05-28T08:35:01.548365Z"
    }
   },
   "outputs": [
    {
     "name": "stdout",
     "output_type": "stream",
     "text": [
      "2004/04/23\n",
      "0\n",
      "9-23\n",
      "36\n",
      "02/23\n",
      "49\n"
     ]
    }
   ],
   "source": [
    "for match in result1:\n",
    "    print (match.group())\n",
    "    print (match.start())"
   ]
  },
  {
   "cell_type": "code",
   "execution_count": null,
   "metadata": {},
   "outputs": [],
   "source": []
  },
  {
   "cell_type": "code",
   "execution_count": null,
   "metadata": {},
   "outputs": [],
   "source": []
  },
  {
   "cell_type": "code",
   "execution_count": null,
   "metadata": {},
   "outputs": [],
   "source": []
  },
  {
   "cell_type": "code",
   "execution_count": null,
   "metadata": {
    "ExecuteTime": {
     "start_time": "2019-05-26T13:39:43.334Z"
    }
   },
   "outputs": [
    {
     "name": "stdout",
     "output_type": "stream",
     "text": [
      "这趟从湖北十堰发出的列车，原定将于9月16日中午抵达广州。车里坐了200多位华南理工大学的学生，按照所读专业的要求，他们在大四刚开学的时候集体前往湖北十堰的汽车工厂参观学习，9月15日是既定的返程时间。\n",
      "这_r 趟_q 从_p 湖北_ns 十堰_ns 发出_v 的_u 列车_n ，_w 原定_v 将_d 于_p 9月_t 16日_t 中午_t 抵达_v 广州_ns 。_w 车_n 里_f 坐_v 了_u 200_m 多_m 位_q 华南_ns 理工大学_n 的_u 学生_n ，_w 按照_p 所_u 读_v 专业_n 的_u 要求_n ，_w 他们_r 在_p 大四_ns 刚_d 开学_v 的_u 时候_n 集体_n 前往_v 湖北_ns 十堰_ns 的_u 汽车_n 工厂_n 参观_v 学习_v ，_w 9月_t 15日_t 是_v 既定_a 的_u 返程_v 时间_n 。_w\n"
     ]
    }
   ],
   "source": [
    "thu1.run()"
   ]
  },
  {
   "cell_type": "code",
   "execution_count": null,
   "metadata": {},
   "outputs": [],
   "source": []
  },
  {
   "cell_type": "code",
   "execution_count": 215,
   "metadata": {
    "ExecuteTime": {
     "end_time": "2019-05-27T08:30:49.227553Z",
     "start_time": "2019-05-27T08:30:49.163069Z"
    },
    "collapsed": true
   },
   "outputs": [
    {
     "name": "stdout",
     "output_type": "stream",
     "text": [
      "[['19', '民防', '澳门'], ['局长', '关长', '山竹'], ['街市', '崔世安', '17'], ['低洼地区', '撤离', '随即'], ['马耀权', '联同', '民防'], ['民防', '首次', '讯息'], ['山竹', '马耀权', '40']] [['民防', '损失', '取得'], ['局长', '应对', '节目'], ['街市', '了解', '情况'], ['撤离', '低洼地区', '治安'], ['部门', '撤离', '行动'], ['民防', '中心', '台风'], ['造成', '情况', '民防']]\n"
     ]
    }
   ],
   "source": [
    "#jieba关键词提取\n",
    "import jieba.analyse\n",
    "a=[]\n",
    "b=[]\n",
    "input_f = open('./input_1.txt', 'r', encoding='utf-8')\n",
    "for line in input_f.readlines():\n",
    "    #基于 TF-IDF 算法的关键词抽取\n",
    "    a.append(jieba.analyse.extract_tags(line, topK=3, withWeight=False, allowPOS=())) \n",
    "    #基于 TextRank 算法的关键词抽取\n",
    "    b.append(jieba.analyse.textrank(line, topK=3, withWeight=False, allowPOS=('ns', 'n', 'vn', 'v')))\n",
    "    \n",
    "input_f.close()\n",
    "print(a,b)"
   ]
  },
  {
   "cell_type": "code",
   "execution_count": 143,
   "metadata": {
    "ExecuteTime": {
     "end_time": "2019-05-27T06:45:45.970641Z",
     "start_time": "2019-05-27T06:45:45.955761Z"
    }
   },
   "outputs": [],
   "source": [
    "#jieba  Tokenize：返回词语在原文的起止位置\n",
    "seg_list = jieba.cut(\"我来到北京清华大学\")\n",
    "seg_list1 = thu1.cut('我来到北京清华大学')"
   ]
  },
  {
   "cell_type": "code",
   "execution_count": 128,
   "metadata": {
    "ExecuteTime": {
     "end_time": "2019-05-27T06:28:52.195603Z",
     "start_time": "2019-05-27T06:28:52.098388Z"
    },
    "collapsed": true
   },
   "outputs": [
    {
     "name": "stdout",
     "output_type": "stream",
     "text": [
      "中新社 nt\n",
      "澳门 ns\n",
      "9 m\n",
      "月 m\n",
      "19 m\n",
      "日电 j\n",
      "澳门特区政府 nt\n",
      "警察 v\n",
      "总局局长 n\n",
      "、 x\n",
      "民防 n\n",
      "联合行动 l\n",
      "指挥官 n\n",
      "马耀权 nr\n",
      "19 m\n",
      "日 m\n",
      "表示 v\n",
      "， x\n",
      "此次 r\n",
      "应对 v\n",
      "台风 ns\n",
      "“ x\n",
      "山竹 ns\n",
      "” x\n",
      "， x\n",
      "澳门 ns\n",
      "民防 n\n",
      "行动 vn\n",
      "中心 n\n",
      "有 v\n",
      "5 m\n",
      "个 m\n",
      "“ x\n",
      "首次 m\n",
      "” x\n",
      "采用 v\n",
      "措施 n\n",
      "， x\n",
      "将 d\n",
      "损失 n\n",
      "及 c\n",
      "伤亡 v\n",
      "减至 v\n",
      "最低 a\n",
      "， x\n",
      "取得 v\n",
      "了 ul\n",
      "理想 n\n",
      "的 uj\n",
      "效果 n\n",
      "。 x\n",
      "\n",
      " x\n",
      "马耀权 nr\n",
      "及 c\n",
      "海关 ns\n",
      "副 b\n",
      "关长 n\n",
      "吴 nr\n",
      "国庆 t\n",
      "， x\n",
      "治安 ns\n",
      "警察局 n\n",
      "局长 n\n",
      "梁文昌 nr\n",
      "， x\n",
      "消防局 n\n",
      "局长 n\n",
      "梁毓森 nr\n",
      "以及 c\n",
      "司法警察 n\n",
      "局局长 n\n",
      "薛仲明 nr\n",
      "， x\n",
      "当天 t\n",
      "应邀出席 nr\n",
      "电台 n\n",
      "时事 n\n",
      "节目 n\n",
      "， x\n",
      "总结 n\n",
      "应对 v\n",
      "超 v\n",
      "强台风 nr\n",
      "“ x\n",
      "山竹 ns\n",
      "” x\n",
      "经验 n\n",
      "。 x\n",
      "\n",
      " x\n",
      "9 m\n",
      "月 m\n",
      "17 m\n",
      "日 m\n",
      "上午 t\n",
      "， x\n",
      "澳门特区 ns\n",
      "行政长官 n\n",
      "崔世安 nr\n",
      "检查 vn\n",
      "下 f\n",
      "环 n\n",
      "街市 n\n",
      "、 x\n",
      "康公庙 nr\n",
      "、 x\n",
      "筷子 n\n",
      "基及 p\n",
      "红 n\n",
      "街市 n\n",
      "等 u\n",
      "低洼地区 n\n",
      "， x\n",
      "了解 v\n",
      "风后 n\n",
      "和 c\n",
      "水浸 n\n",
      "过后 t\n",
      "区内 s\n",
      "的 uj\n",
      "市面 n\n",
      "情况 n\n",
      "， x\n",
      "听取 v\n",
      "相关 v\n",
      "部门 n\n",
      "汇报 nz\n",
      "善后工作 l\n",
      "的 uj\n",
      "安排 v\n",
      "和 c\n",
      "进度 d\n",
      "。 x\n",
      "图 n\n",
      "为 p\n",
      "崔世安 nr\n",
      "（ x\n",
      "左二 m\n",
      "） x\n",
      "在 p\n",
      "街市 n\n",
      "了解 v\n",
      "灾 n\n",
      "后 f\n",
      "食品 n\n",
      "供给 vn\n",
      "情况 n\n",
      "。 x\n",
      "中新社 nt\n",
      "发 v\n",
      "  x\n",
      "钟欣 nr\n",
      "  x\n",
      "摄 vg\n",
      "\n",
      " x\n",
      "澳门 ns\n",
      "气象局 n\n",
      "在 p\n",
      "15 m\n",
      "日 m\n",
      "晚上 t\n",
      "9 m\n",
      "时 n\n",
      "发出 v\n",
      "红色 n\n",
      "风暴潮 n\n",
      "警告 n\n",
      "， x\n",
      "民防 n\n",
      "行动 vn\n",
      "中心 n\n",
      "随即 d\n",
      "全面 n\n",
      "运作 vn\n",
      "， x\n",
      "共 d\n",
      "历时 n\n",
      "46 m\n",
      "小时 n\n",
      "。 x\n",
      "而 c\n",
      "海关 ns\n",
      "、 x\n",
      "消防局 n\n",
      "、 x\n",
      "治安 ns\n",
      "警察局 n\n",
      "等 u\n",
      "部门 n\n",
      "也 d\n",
      "随即 d\n",
      "在 p\n",
      "各自 r\n",
      "分区 n\n",
      "执行 v\n",
      "低洼地区 n\n",
      "疏散 v\n",
      "撤离 v\n",
      "计划 n\n",
      "， x\n",
      "共 d\n",
      "撤离 v\n",
      "了 ul\n",
      "5650 m\n",
      "居住 v\n",
      "于 p\n",
      "低洼地区 n\n",
      "地下 s\n",
      "及 c\n",
      "低层 n\n",
      "的 uj\n",
      "住户 n\n",
      "。 x\n",
      "\n",
      " x\n",
      "马耀权 nr\n",
      "认为 v\n",
      "， x\n",
      "在 p\n",
      "如此 c\n",
      "短时间 n\n",
      "内 n\n",
      "执行 v\n",
      "这么 r\n",
      "大 a\n",
      "的 uj\n",
      "撤离 v\n",
      "行动 vn\n",
      "， x\n",
      "做到 v\n",
      "这个 r\n",
      "效果 n\n",
      "十分 m\n",
      "难得 d\n",
      "。 x\n",
      "而 c\n",
      "在 p\n",
      "台风 ns\n",
      "过后 t\n",
      "， x\n",
      "民防 n\n",
      "部门 n\n",
      "联同 v\n",
      "众多 m\n",
      "团体 n\n",
      "展开 v\n",
      "联合行动 l\n",
      "， x\n",
      "到 v\n",
      "澳门 ns\n",
      "各区 r\n",
      "一同 d\n",
      "清除 v\n",
      "道路 n\n",
      "障碍物 n\n",
      "， x\n",
      "1 m\n",
      "天内 s\n",
      "便 d\n",
      "恢复正常 b\n",
      "秩序 n\n",
      "。 x\n",
      "\n",
      " x\n",
      "马耀权 nr\n",
      "称 v\n",
      "， x\n",
      "是 v\n",
      "次 q\n",
      "民防 n\n",
      "行动 vn\n",
      "中心 n\n",
      "有 v\n",
      "5 m\n",
      "个 m\n",
      "“ x\n",
      "首次 m\n",
      "” x\n",
      "， x\n",
      "分别 d\n",
      "是 v\n",
      "首次 m\n",
      "使用 v\n",
      "公共广播 l\n",
      "系统 n\n",
      "播放 v\n",
      "低洼地区 n\n",
      "的 uj\n",
      "撤离 v\n",
      "警号 n\n",
      "； x\n",
      "首次 m\n",
      "向 p\n",
      "市民 n\n",
      "发出 v\n",
      "全民 n\n",
      "紧急 a\n",
      "短讯 nz\n",
      "预警 vn\n",
      "红色 n\n",
      "风暴潮 n\n",
      "的 uj\n",
      "到来 d\n",
      "； x\n",
      "首次 m\n",
      "实施 v\n",
      "视听 v\n",
      "直播 vn\n",
      "， x\n",
      "新闻官 n\n",
      "在 p\n",
      "民防 n\n",
      "中心 n\n",
      "发布 v\n",
      "最新 d\n",
      "台风 ns\n",
      "信息 n\n",
      "； x\n",
      "首次 m\n",
      "采用 v\n",
      "一键 n\n",
      "发送 v\n",
      "模式 n\n",
      "， x\n",
      "由 p\n",
      "民防 n\n",
      "中心 n\n",
      "操作员 n\n",
      "直接 ad\n",
      "将 d\n",
      "讯息 n\n",
      "推送 v\n",
      "至 p\n",
      "澳广视 nt\n",
      "电视屏幕 l\n",
      "； x\n",
      "首次 m\n",
      "联同 v\n",
      "民防 n\n",
      "架构 n\n",
      "成员 n\n",
      "， x\n",
      "不断 d\n",
      "滚动 v\n",
      "集中 v\n",
      "发放 v\n",
      "台风 ns\n",
      "讯息 n\n",
      "。 x\n",
      "\n",
      " x\n",
      "这些 r\n",
      "“ x\n",
      "首次 m\n",
      "” x\n",
      "让 v\n",
      "市民 n\n",
      "实时 d\n",
      "了解 v\n",
      "风暴潮 n\n",
      "情况 n\n",
      "， x\n",
      "作出 v\n",
      "最快 d\n",
      "反应 vn\n",
      "。 x\n",
      "马耀权 nr\n",
      "总结 n\n",
      "指出 v\n",
      "， x\n",
      "台风 ns\n",
      "“ x\n",
      "山竹 ns\n",
      "” x\n",
      "造成 v\n",
      "澳门 ns\n",
      "40 m\n",
      "人 n\n",
      "受伤 v\n",
      "， x\n",
      "大部分 m\n",
      "为 p\n",
      "轻伤 a\n",
      "， x\n",
      "对 p\n",
      "比起 v\n",
      "去年 t\n",
      "“ x\n",
      "天鸽 nz\n",
      "” x\n",
      "造成 v\n",
      "10 m\n",
      "死 v\n",
      "244 m\n",
      "人伤 n\n",
      "， x\n",
      "伤亡 v\n",
      "程度 n\n",
      "已 d\n",
      "大幅 d\n",
      "降低 v\n",
      "， x\n",
      "是 v\n",
      "次 q\n",
      "民防 n\n",
      "行动 vn\n",
      "中心 n\n",
      "的 uj\n",
      "5 m\n",
      "个 m\n",
      "“ x\n",
      "首次 m\n",
      "” x\n",
      "， x\n",
      "取得 v\n",
      "了 ul\n",
      "理想 n\n",
      "的 uj\n",
      "效果 n\n",
      "。 x\n"
     ]
    }
   ],
   "source": [
    "#jieba词性标注,效果不好，所以不用jieba进行词性标注，用thulac进行词性标注\n",
    "import jieba.posseg as pseg\n",
    "\n",
    "input_f = open('./input_1.txt', 'r', encoding='utf-8')\n",
    "#output_f = open('./out_jieba.txt', 'r', encoding='utf-8')\n",
    "for line in input_f.readlines():\n",
    "    words = pseg.cut(line)\n",
    "    for word,tag in words:\n",
    "        print(word,tag)\n",
    "\n",
    "input_f.close()"
   ]
  }
 ],
 "metadata": {
  "kernelspec": {
   "display_name": "Python 3",
   "language": "python",
   "name": "python3"
  },
  "language_info": {
   "codemirror_mode": {
    "name": "ipython",
    "version": 3
   },
   "file_extension": ".py",
   "mimetype": "text/x-python",
   "name": "python",
   "nbconvert_exporter": "python",
   "pygments_lexer": "ipython3",
   "version": "3.6.8"
  },
  "toc": {
   "base_numbering": 1,
   "nav_menu": {},
   "number_sections": true,
   "sideBar": true,
   "skip_h1_title": false,
   "title_cell": "Table of Contents",
   "title_sidebar": "Contents",
   "toc_cell": false,
   "toc_position": {},
   "toc_section_display": true,
   "toc_window_display": false
  },
  "varInspector": {
   "cols": {
    "lenName": 16,
    "lenType": 16,
    "lenVar": 40
   },
   "kernels_config": {
    "python": {
     "delete_cmd_postfix": "",
     "delete_cmd_prefix": "del ",
     "library": "var_list.py",
     "varRefreshCmd": "print(var_dic_list())"
    },
    "r": {
     "delete_cmd_postfix": ") ",
     "delete_cmd_prefix": "rm(",
     "library": "var_list.r",
     "varRefreshCmd": "cat(var_dic_list()) "
    }
   },
   "types_to_exclude": [
    "module",
    "function",
    "builtin_function_or_method",
    "instance",
    "_Feature"
   ],
   "window_display": false
  }
 },
 "nbformat": 4,
 "nbformat_minor": 2
}
